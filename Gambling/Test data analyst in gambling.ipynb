{
  "nbformat": 4,
  "nbformat_minor": 0,
  "metadata": {
    "colab": {
      "provenance": []
    },
    "kernelspec": {
      "name": "python3",
      "display_name": "Python 3"
    },
    "language_info": {
      "name": "python"
    }
  },
  "cells": [
    {
      "cell_type": "markdown",
      "source": [
        "## Тестовое задание на позицию Gambling Data Analyst"
      ],
      "metadata": {
        "id": "Q-wMi1xaWuVp"
      }
    },
    {
      "cell_type": "markdown",
      "source": [
        "* [1.3.1 Task](#task1)\n",
        "  * [Pandas realisation](#pd)\n",
        "  * [PySpark realisation](#sp)\n",
        "  * [SQL realisation](#sql)\n",
        "* [1.3.2 Task](#task2)"
      ],
      "metadata": {
        "id": "ziz0pKk_XNK7"
      }
    },
    {
      "cell_type": "markdown",
      "source": [
        "## 1.3.1 Task\n",
        "<a class='anchor' id='task1'></a>"
      ],
      "metadata": {
        "id": "6Q33UvLKkgAP"
      }
    },
    {
      "cell_type": "markdown",
      "source": [
        "Ожидаемый результат: сет player_id удовлетворяющий всем условиям вместе.\n",
        "\n",
        "Условия:\n",
        "* ставка сделана с 12:00 14.03.2022 в пре-матч\n",
        "* все события в ставке из раздела «Киберспорт»\n",
        "* минимальная сумма ставки 10 BYN\n",
        "* коэффициент каждого события ставки не менее 1,5\n",
        "* ставка должна быть рассчитана не позднее 12:00 15.03.2022\n",
        "* ставки вида «система» не учитываются\n",
        "* ставки CashOut, возвраты и FreeBet не учитываются\n"
      ],
      "metadata": {
        "id": "ZHaOiH_gkVd7"
      }
    },
    {
      "cell_type": "markdown",
      "source": [
        "*Комментарий: поскольку в задании отсутствует описание полей, фильтрация может быть не совсем той, которая была заложена. Все шаги подписаны, фильтры обозначены, поэтому общая логика выполнения задания должна быть понятна.*"
      ],
      "metadata": {
        "id": "FIv08vb_sq4t"
      }
    },
    {
      "cell_type": "markdown",
      "source": [
        "### Pandas realisation\n",
        "<a class='anchor' id='pd'></a>"
      ],
      "metadata": {
        "id": "Czj8tv6n1yfx"
      }
    },
    {
      "cell_type": "markdown",
      "source": [
        "#### Bets dataframe"
      ],
      "metadata": {
        "id": "RFHF5W1L1yfx"
      }
    },
    {
      "cell_type": "code",
      "source": [
        "# импорт библиотек\n",
        "import pandas as pd"
      ],
      "metadata": {
        "id": "nr_e3rLG1yfx"
      },
      "execution_count": null,
      "outputs": []
    },
    {
      "cell_type": "code",
      "source": [
        "# отображение всех колонок\n",
        "pd.set_option('display.max_columns', None)"
      ],
      "metadata": {
        "id": "R-tglAij2eki"
      },
      "execution_count": null,
      "outputs": []
    },
    {
      "cell_type": "code",
      "source": [
        "# загрузка данных о ставках\n",
        "bets_p = pd.read_csv('bets.csv')\n",
        "\n",
        "# вывод структуры данных\n",
        "bets_p.info()"
      ],
      "metadata": {
        "colab": {
          "base_uri": "https://localhost:8080/"
        },
        "outputId": "e43f4612-9b53-4f22-a73b-9ded4fe38d11",
        "id": "KAMfSRl21yfx"
      },
      "execution_count": null,
      "outputs": [
        {
          "output_type": "stream",
          "name": "stdout",
          "text": [
            "<class 'pandas.core.frame.DataFrame'>\n",
            "RangeIndex: 102860 entries, 0 to 102859\n",
            "Data columns (total 21 columns):\n",
            " #   Column             Non-Null Count   Dtype  \n",
            "---  ------             --------------   -----  \n",
            " 0   bet_id             102860 non-null  object \n",
            " 1   player_id          102860 non-null  object \n",
            " 2   accept_time        102860 non-null  object \n",
            " 3   create_time        102860 non-null  object \n",
            " 4   settlement_time    80379 non-null   object \n",
            " 5   result             80379 non-null   object \n",
            " 6   amount             102860 non-null  float64\n",
            " 7   payout             80379 non-null   float64\n",
            " 8   profit             80379 non-null   float64\n",
            " 9   bet_type           102860 non-null  object \n",
            " 10  bet_size           102860 non-null  int64  \n",
            " 11  accepted_bet_odd   102860 non-null  float64\n",
            " 12  item_result        80379 non-null   object \n",
            " 13  event_stage        102165 non-null  object \n",
            " 14  accepted_odd       102860 non-null  float64\n",
            " 15  item_amount        102860 non-null  float64\n",
            " 16  item_payout        80379 non-null   float64\n",
            " 17  item_profit        80379 non-null   float64\n",
            " 18  event_id           102860 non-null  object \n",
            " 19  is_free_bet        102860 non-null  bool   \n",
            " 20  settlement_status  102860 non-null  object \n",
            "dtypes: bool(1), float64(8), int64(1), object(11)\n",
            "memory usage: 15.8+ MB\n"
          ]
        }
      ]
    },
    {
      "cell_type": "code",
      "source": [
        "# вывод данных\n",
        "bets_p.head()"
      ],
      "metadata": {
        "colab": {
          "base_uri": "https://localhost:8080/",
          "height": 487
        },
        "outputId": "59f434d6-8fed-49bc-fcd1-ed43883bf3f2",
        "id": "0HKQnCv_1yfx"
      },
      "execution_count": null,
      "outputs": [
        {
          "output_type": "execute_result",
          "data": {
            "text/plain": [
              "                                 bet_id                             player_id  \\\n",
              "0  4580f660-d16a-4ad6-8837-47574564a37f  cf928a91-a17d-42cd-8924-7c3fccd54acb   \n",
              "1  7435c382-e448-4c0b-8b56-a9e547ca6605  cf928a91-a17d-42cd-8924-7c3fccd54acb   \n",
              "2  ae36ffa2-0bb5-4bd7-8cf6-e15416ae4fc7  f1866879-4b0f-4a58-aaa9-24e6224cb139   \n",
              "3  57009dc1-60c5-46f7-acb5-1a45a19983b7  e5efcd9c-aa46-48a1-be0e-9e9f9aa37b53   \n",
              "4  57009dc1-60c5-46f7-acb5-1a45a19983b7  e5efcd9c-aa46-48a1-be0e-9e9f9aa37b53   \n",
              "\n",
              "               accept_time              create_time          settlement_time  \\\n",
              "0  2022-03-14 00:00:00.165  2022-03-13 23:59:54.503  2022-03-14 00:21:59.745   \n",
              "1  2022-03-14 00:00:36.819  2022-03-14 00:00:31.160  2022-03-14 00:10:16.243   \n",
              "2  2022-03-14 00:01:07.941  2022-03-14 00:01:07.743  2022-03-14 04:37:24.291   \n",
              "3  2022-03-14 00:01:27.927  2022-03-14 00:01:27.927                      NaN   \n",
              "4  2022-03-14 00:01:27.927  2022-03-14 00:01:27.927                      NaN   \n",
              "\n",
              "   result  amount  payout  profit bet_type  bet_size  accepted_bet_odd  \\\n",
              "0  Return    1.00    1.00    0.00  Ordinar         1              7.50   \n",
              "1     Win    0.95    2.48   -1.53  Ordinar         1              2.62   \n",
              "2     Win    3.51    7.51   -4.00  Ordinar         1              2.14   \n",
              "3     NaN    1.00     NaN     NaN  Express         4              0.00   \n",
              "4     NaN    1.00     NaN     NaN  Express         4              0.00   \n",
              "\n",
              "  item_result event_stage  accepted_odd  item_amount  item_payout  \\\n",
              "0      Return        Live          7.50         1.00         1.00   \n",
              "1         Win        Live          2.62         0.95         2.48   \n",
              "2         Win    Prematch          2.14         3.51         7.51   \n",
              "3         NaN         NaN          0.00         0.00          NaN   \n",
              "4         NaN         NaN          0.00         0.00          NaN   \n",
              "\n",
              "   item_profit                              event_id  is_free_bet  \\\n",
              "0         0.00  c3929913-1eef-4703-ada2-fe08fd47c79d        False   \n",
              "1        -1.53  c3929913-1eef-4703-ada2-fe08fd47c79d        False   \n",
              "2        -4.00  7b6aaa15-3b2e-4977-8b1a-59472eeb0817        False   \n",
              "3          NaN  0b912707-3b87-4ec3-886c-2b0f96303977        False   \n",
              "4          NaN  c3929913-1eef-4703-ada2-fe08fd47c79d        False   \n",
              "\n",
              "  settlement_status  \n",
              "0           Settled  \n",
              "1           Settled  \n",
              "2           Settled  \n",
              "3          Rejected  \n",
              "4          Rejected  "
            ],
            "text/html": [
              "\n",
              "  <div id=\"df-ccd19602-5d52-4248-a342-ecd3c8e20d25\" class=\"colab-df-container\">\n",
              "    <div>\n",
              "<style scoped>\n",
              "    .dataframe tbody tr th:only-of-type {\n",
              "        vertical-align: middle;\n",
              "    }\n",
              "\n",
              "    .dataframe tbody tr th {\n",
              "        vertical-align: top;\n",
              "    }\n",
              "\n",
              "    .dataframe thead th {\n",
              "        text-align: right;\n",
              "    }\n",
              "</style>\n",
              "<table border=\"1\" class=\"dataframe\">\n",
              "  <thead>\n",
              "    <tr style=\"text-align: right;\">\n",
              "      <th></th>\n",
              "      <th>bet_id</th>\n",
              "      <th>player_id</th>\n",
              "      <th>accept_time</th>\n",
              "      <th>create_time</th>\n",
              "      <th>settlement_time</th>\n",
              "      <th>result</th>\n",
              "      <th>amount</th>\n",
              "      <th>payout</th>\n",
              "      <th>profit</th>\n",
              "      <th>bet_type</th>\n",
              "      <th>bet_size</th>\n",
              "      <th>accepted_bet_odd</th>\n",
              "      <th>item_result</th>\n",
              "      <th>event_stage</th>\n",
              "      <th>accepted_odd</th>\n",
              "      <th>item_amount</th>\n",
              "      <th>item_payout</th>\n",
              "      <th>item_profit</th>\n",
              "      <th>event_id</th>\n",
              "      <th>is_free_bet</th>\n",
              "      <th>settlement_status</th>\n",
              "    </tr>\n",
              "  </thead>\n",
              "  <tbody>\n",
              "    <tr>\n",
              "      <th>0</th>\n",
              "      <td>4580f660-d16a-4ad6-8837-47574564a37f</td>\n",
              "      <td>cf928a91-a17d-42cd-8924-7c3fccd54acb</td>\n",
              "      <td>2022-03-14 00:00:00.165</td>\n",
              "      <td>2022-03-13 23:59:54.503</td>\n",
              "      <td>2022-03-14 00:21:59.745</td>\n",
              "      <td>Return</td>\n",
              "      <td>1.00</td>\n",
              "      <td>1.00</td>\n",
              "      <td>0.00</td>\n",
              "      <td>Ordinar</td>\n",
              "      <td>1</td>\n",
              "      <td>7.50</td>\n",
              "      <td>Return</td>\n",
              "      <td>Live</td>\n",
              "      <td>7.50</td>\n",
              "      <td>1.00</td>\n",
              "      <td>1.00</td>\n",
              "      <td>0.00</td>\n",
              "      <td>c3929913-1eef-4703-ada2-fe08fd47c79d</td>\n",
              "      <td>False</td>\n",
              "      <td>Settled</td>\n",
              "    </tr>\n",
              "    <tr>\n",
              "      <th>1</th>\n",
              "      <td>7435c382-e448-4c0b-8b56-a9e547ca6605</td>\n",
              "      <td>cf928a91-a17d-42cd-8924-7c3fccd54acb</td>\n",
              "      <td>2022-03-14 00:00:36.819</td>\n",
              "      <td>2022-03-14 00:00:31.160</td>\n",
              "      <td>2022-03-14 00:10:16.243</td>\n",
              "      <td>Win</td>\n",
              "      <td>0.95</td>\n",
              "      <td>2.48</td>\n",
              "      <td>-1.53</td>\n",
              "      <td>Ordinar</td>\n",
              "      <td>1</td>\n",
              "      <td>2.62</td>\n",
              "      <td>Win</td>\n",
              "      <td>Live</td>\n",
              "      <td>2.62</td>\n",
              "      <td>0.95</td>\n",
              "      <td>2.48</td>\n",
              "      <td>-1.53</td>\n",
              "      <td>c3929913-1eef-4703-ada2-fe08fd47c79d</td>\n",
              "      <td>False</td>\n",
              "      <td>Settled</td>\n",
              "    </tr>\n",
              "    <tr>\n",
              "      <th>2</th>\n",
              "      <td>ae36ffa2-0bb5-4bd7-8cf6-e15416ae4fc7</td>\n",
              "      <td>f1866879-4b0f-4a58-aaa9-24e6224cb139</td>\n",
              "      <td>2022-03-14 00:01:07.941</td>\n",
              "      <td>2022-03-14 00:01:07.743</td>\n",
              "      <td>2022-03-14 04:37:24.291</td>\n",
              "      <td>Win</td>\n",
              "      <td>3.51</td>\n",
              "      <td>7.51</td>\n",
              "      <td>-4.00</td>\n",
              "      <td>Ordinar</td>\n",
              "      <td>1</td>\n",
              "      <td>2.14</td>\n",
              "      <td>Win</td>\n",
              "      <td>Prematch</td>\n",
              "      <td>2.14</td>\n",
              "      <td>3.51</td>\n",
              "      <td>7.51</td>\n",
              "      <td>-4.00</td>\n",
              "      <td>7b6aaa15-3b2e-4977-8b1a-59472eeb0817</td>\n",
              "      <td>False</td>\n",
              "      <td>Settled</td>\n",
              "    </tr>\n",
              "    <tr>\n",
              "      <th>3</th>\n",
              "      <td>57009dc1-60c5-46f7-acb5-1a45a19983b7</td>\n",
              "      <td>e5efcd9c-aa46-48a1-be0e-9e9f9aa37b53</td>\n",
              "      <td>2022-03-14 00:01:27.927</td>\n",
              "      <td>2022-03-14 00:01:27.927</td>\n",
              "      <td>NaN</td>\n",
              "      <td>NaN</td>\n",
              "      <td>1.00</td>\n",
              "      <td>NaN</td>\n",
              "      <td>NaN</td>\n",
              "      <td>Express</td>\n",
              "      <td>4</td>\n",
              "      <td>0.00</td>\n",
              "      <td>NaN</td>\n",
              "      <td>NaN</td>\n",
              "      <td>0.00</td>\n",
              "      <td>0.00</td>\n",
              "      <td>NaN</td>\n",
              "      <td>NaN</td>\n",
              "      <td>0b912707-3b87-4ec3-886c-2b0f96303977</td>\n",
              "      <td>False</td>\n",
              "      <td>Rejected</td>\n",
              "    </tr>\n",
              "    <tr>\n",
              "      <th>4</th>\n",
              "      <td>57009dc1-60c5-46f7-acb5-1a45a19983b7</td>\n",
              "      <td>e5efcd9c-aa46-48a1-be0e-9e9f9aa37b53</td>\n",
              "      <td>2022-03-14 00:01:27.927</td>\n",
              "      <td>2022-03-14 00:01:27.927</td>\n",
              "      <td>NaN</td>\n",
              "      <td>NaN</td>\n",
              "      <td>1.00</td>\n",
              "      <td>NaN</td>\n",
              "      <td>NaN</td>\n",
              "      <td>Express</td>\n",
              "      <td>4</td>\n",
              "      <td>0.00</td>\n",
              "      <td>NaN</td>\n",
              "      <td>NaN</td>\n",
              "      <td>0.00</td>\n",
              "      <td>0.00</td>\n",
              "      <td>NaN</td>\n",
              "      <td>NaN</td>\n",
              "      <td>c3929913-1eef-4703-ada2-fe08fd47c79d</td>\n",
              "      <td>False</td>\n",
              "      <td>Rejected</td>\n",
              "    </tr>\n",
              "  </tbody>\n",
              "</table>\n",
              "</div>\n",
              "    <div class=\"colab-df-buttons\">\n",
              "\n",
              "  <div class=\"colab-df-container\">\n",
              "    <button class=\"colab-df-convert\" onclick=\"convertToInteractive('df-ccd19602-5d52-4248-a342-ecd3c8e20d25')\"\n",
              "            title=\"Convert this dataframe to an interactive table.\"\n",
              "            style=\"display:none;\">\n",
              "\n",
              "  <svg xmlns=\"http://www.w3.org/2000/svg\" height=\"24px\" viewBox=\"0 -960 960 960\">\n",
              "    <path d=\"M120-120v-720h720v720H120Zm60-500h600v-160H180v160Zm220 220h160v-160H400v160Zm0 220h160v-160H400v160ZM180-400h160v-160H180v160Zm440 0h160v-160H620v160ZM180-180h160v-160H180v160Zm440 0h160v-160H620v160Z\"/>\n",
              "  </svg>\n",
              "    </button>\n",
              "\n",
              "  <style>\n",
              "    .colab-df-container {\n",
              "      display:flex;\n",
              "      gap: 12px;\n",
              "    }\n",
              "\n",
              "    .colab-df-convert {\n",
              "      background-color: #E8F0FE;\n",
              "      border: none;\n",
              "      border-radius: 50%;\n",
              "      cursor: pointer;\n",
              "      display: none;\n",
              "      fill: #1967D2;\n",
              "      height: 32px;\n",
              "      padding: 0 0 0 0;\n",
              "      width: 32px;\n",
              "    }\n",
              "\n",
              "    .colab-df-convert:hover {\n",
              "      background-color: #E2EBFA;\n",
              "      box-shadow: 0px 1px 2px rgba(60, 64, 67, 0.3), 0px 1px 3px 1px rgba(60, 64, 67, 0.15);\n",
              "      fill: #174EA6;\n",
              "    }\n",
              "\n",
              "    .colab-df-buttons div {\n",
              "      margin-bottom: 4px;\n",
              "    }\n",
              "\n",
              "    [theme=dark] .colab-df-convert {\n",
              "      background-color: #3B4455;\n",
              "      fill: #D2E3FC;\n",
              "    }\n",
              "\n",
              "    [theme=dark] .colab-df-convert:hover {\n",
              "      background-color: #434B5C;\n",
              "      box-shadow: 0px 1px 3px 1px rgba(0, 0, 0, 0.15);\n",
              "      filter: drop-shadow(0px 1px 2px rgba(0, 0, 0, 0.3));\n",
              "      fill: #FFFFFF;\n",
              "    }\n",
              "  </style>\n",
              "\n",
              "    <script>\n",
              "      const buttonEl =\n",
              "        document.querySelector('#df-ccd19602-5d52-4248-a342-ecd3c8e20d25 button.colab-df-convert');\n",
              "      buttonEl.style.display =\n",
              "        google.colab.kernel.accessAllowed ? 'block' : 'none';\n",
              "\n",
              "      async function convertToInteractive(key) {\n",
              "        const element = document.querySelector('#df-ccd19602-5d52-4248-a342-ecd3c8e20d25');\n",
              "        const dataTable =\n",
              "          await google.colab.kernel.invokeFunction('convertToInteractive',\n",
              "                                                    [key], {});\n",
              "        if (!dataTable) return;\n",
              "\n",
              "        const docLinkHtml = 'Like what you see? Visit the ' +\n",
              "          '<a target=\"_blank\" href=https://colab.research.google.com/notebooks/data_table.ipynb>data table notebook</a>'\n",
              "          + ' to learn more about interactive tables.';\n",
              "        element.innerHTML = '';\n",
              "        dataTable['output_type'] = 'display_data';\n",
              "        await google.colab.output.renderOutput(dataTable, element);\n",
              "        const docLink = document.createElement('div');\n",
              "        docLink.innerHTML = docLinkHtml;\n",
              "        element.appendChild(docLink);\n",
              "      }\n",
              "    </script>\n",
              "  </div>\n",
              "\n",
              "\n",
              "<div id=\"df-bc8ed5a5-7a83-48b4-9963-1a4f34f2dddb\">\n",
              "  <button class=\"colab-df-quickchart\" onclick=\"quickchart('df-bc8ed5a5-7a83-48b4-9963-1a4f34f2dddb')\"\n",
              "            title=\"Suggest charts\"\n",
              "            style=\"display:none;\">\n",
              "\n",
              "<svg xmlns=\"http://www.w3.org/2000/svg\" height=\"24px\"viewBox=\"0 0 24 24\"\n",
              "     width=\"24px\">\n",
              "    <g>\n",
              "        <path d=\"M19 3H5c-1.1 0-2 .9-2 2v14c0 1.1.9 2 2 2h14c1.1 0 2-.9 2-2V5c0-1.1-.9-2-2-2zM9 17H7v-7h2v7zm4 0h-2V7h2v10zm4 0h-2v-4h2v4z\"/>\n",
              "    </g>\n",
              "</svg>\n",
              "  </button>\n",
              "\n",
              "<style>\n",
              "  .colab-df-quickchart {\n",
              "      --bg-color: #E8F0FE;\n",
              "      --fill-color: #1967D2;\n",
              "      --hover-bg-color: #E2EBFA;\n",
              "      --hover-fill-color: #174EA6;\n",
              "      --disabled-fill-color: #AAA;\n",
              "      --disabled-bg-color: #DDD;\n",
              "  }\n",
              "\n",
              "  [theme=dark] .colab-df-quickchart {\n",
              "      --bg-color: #3B4455;\n",
              "      --fill-color: #D2E3FC;\n",
              "      --hover-bg-color: #434B5C;\n",
              "      --hover-fill-color: #FFFFFF;\n",
              "      --disabled-bg-color: #3B4455;\n",
              "      --disabled-fill-color: #666;\n",
              "  }\n",
              "\n",
              "  .colab-df-quickchart {\n",
              "    background-color: var(--bg-color);\n",
              "    border: none;\n",
              "    border-radius: 50%;\n",
              "    cursor: pointer;\n",
              "    display: none;\n",
              "    fill: var(--fill-color);\n",
              "    height: 32px;\n",
              "    padding: 0;\n",
              "    width: 32px;\n",
              "  }\n",
              "\n",
              "  .colab-df-quickchart:hover {\n",
              "    background-color: var(--hover-bg-color);\n",
              "    box-shadow: 0 1px 2px rgba(60, 64, 67, 0.3), 0 1px 3px 1px rgba(60, 64, 67, 0.15);\n",
              "    fill: var(--button-hover-fill-color);\n",
              "  }\n",
              "\n",
              "  .colab-df-quickchart-complete:disabled,\n",
              "  .colab-df-quickchart-complete:disabled:hover {\n",
              "    background-color: var(--disabled-bg-color);\n",
              "    fill: var(--disabled-fill-color);\n",
              "    box-shadow: none;\n",
              "  }\n",
              "\n",
              "  .colab-df-spinner {\n",
              "    border: 2px solid var(--fill-color);\n",
              "    border-color: transparent;\n",
              "    border-bottom-color: var(--fill-color);\n",
              "    animation:\n",
              "      spin 1s steps(1) infinite;\n",
              "  }\n",
              "\n",
              "  @keyframes spin {\n",
              "    0% {\n",
              "      border-color: transparent;\n",
              "      border-bottom-color: var(--fill-color);\n",
              "      border-left-color: var(--fill-color);\n",
              "    }\n",
              "    20% {\n",
              "      border-color: transparent;\n",
              "      border-left-color: var(--fill-color);\n",
              "      border-top-color: var(--fill-color);\n",
              "    }\n",
              "    30% {\n",
              "      border-color: transparent;\n",
              "      border-left-color: var(--fill-color);\n",
              "      border-top-color: var(--fill-color);\n",
              "      border-right-color: var(--fill-color);\n",
              "    }\n",
              "    40% {\n",
              "      border-color: transparent;\n",
              "      border-right-color: var(--fill-color);\n",
              "      border-top-color: var(--fill-color);\n",
              "    }\n",
              "    60% {\n",
              "      border-color: transparent;\n",
              "      border-right-color: var(--fill-color);\n",
              "    }\n",
              "    80% {\n",
              "      border-color: transparent;\n",
              "      border-right-color: var(--fill-color);\n",
              "      border-bottom-color: var(--fill-color);\n",
              "    }\n",
              "    90% {\n",
              "      border-color: transparent;\n",
              "      border-bottom-color: var(--fill-color);\n",
              "    }\n",
              "  }\n",
              "</style>\n",
              "\n",
              "  <script>\n",
              "    async function quickchart(key) {\n",
              "      const quickchartButtonEl =\n",
              "        document.querySelector('#' + key + ' button');\n",
              "      quickchartButtonEl.disabled = true;  // To prevent multiple clicks.\n",
              "      quickchartButtonEl.classList.add('colab-df-spinner');\n",
              "      try {\n",
              "        const charts = await google.colab.kernel.invokeFunction(\n",
              "            'suggestCharts', [key], {});\n",
              "      } catch (error) {\n",
              "        console.error('Error during call to suggestCharts:', error);\n",
              "      }\n",
              "      quickchartButtonEl.classList.remove('colab-df-spinner');\n",
              "      quickchartButtonEl.classList.add('colab-df-quickchart-complete');\n",
              "    }\n",
              "    (() => {\n",
              "      let quickchartButtonEl =\n",
              "        document.querySelector('#df-bc8ed5a5-7a83-48b4-9963-1a4f34f2dddb button');\n",
              "      quickchartButtonEl.style.display =\n",
              "        google.colab.kernel.accessAllowed ? 'block' : 'none';\n",
              "    })();\n",
              "  </script>\n",
              "</div>\n",
              "    </div>\n",
              "  </div>\n"
            ],
            "application/vnd.google.colaboratory.intrinsic+json": {
              "type": "dataframe",
              "variable_name": "bets_p"
            }
          },
          "metadata": {},
          "execution_count": 4
        }
      ]
    },
    {
      "cell_type": "code",
      "source": [
        "# вывод уникальных значений 'bet_type', чтобы определить наименование для системных ставок\n",
        "bets_p['bet_type'].unique()"
      ],
      "metadata": {
        "colab": {
          "base_uri": "https://localhost:8080/"
        },
        "outputId": "9c311a8a-46d1-4c8d-e259-294d734d2cad",
        "id": "zqY1-EXW1yfy"
      },
      "execution_count": null,
      "outputs": [
        {
          "output_type": "execute_result",
          "data": {
            "text/plain": [
              "array(['Ordinar', 'Express', 'System'], dtype=object)"
            ]
          },
          "metadata": {},
          "execution_count": 5
        }
      ]
    },
    {
      "cell_type": "code",
      "source": [
        "# вывод уникальных значений 'result', чтобы определить наименования для искомых типов ставок\n",
        "bets_p['result'].unique()"
      ],
      "metadata": {
        "colab": {
          "base_uri": "https://localhost:8080/"
        },
        "outputId": "7260925a-ac83-4849-e1ba-0a8bf804fb0d",
        "id": "AP9sKktb1yfy"
      },
      "execution_count": null,
      "outputs": [
        {
          "output_type": "execute_result",
          "data": {
            "text/plain": [
              "array(['Return', 'Win', nan, 'Lose', 'Cashout', 'TechnicalReturn'],\n",
              "      dtype=object)"
            ]
          },
          "metadata": {},
          "execution_count": 6
        }
      ]
    },
    {
      "cell_type": "code",
      "source": [
        "# фильтрация данных со ставками\n",
        "bets_p = bets_p.loc[\n",
        "    (bets_p['create_time'] >= '2022-03-14 12:00:00') # ставка сделана с 12:00 14.03.2022\n",
        "    & (bets_p['event_stage'] == 'Prematch') # ставка сделана в пре-матч\n",
        "    & (bets_p['amount'] >= 10) # минимальная сумма ставки 10 BYN\n",
        "    & (bets_p['accepted_bet_odd'] >= 1.5) # коэффициент каждого события ставки не менее 1,5\n",
        "    & (bets_p['settlement_time'] <= '2022-03-15 12:00:00') # ставка должна быть рассчитана не позднее 12:00 15.03.2022\n",
        "    & (bets_p['bet_type'] != 'System') # ставки вида «система» не учитываются\n",
        "    & ~bets_p.result.isin(['Cashout', 'TechnicalReturn', 'Return']) # ставки CashOut, возвраты и FreeBet не учитываются\n",
        "    ]"
      ],
      "metadata": {
        "id": "PBRpTbnq3GL3"
      },
      "execution_count": null,
      "outputs": []
    },
    {
      "cell_type": "code",
      "source": [
        "# проверка на пустые значения в колонках\n",
        "bets_p.info()"
      ],
      "metadata": {
        "colab": {
          "base_uri": "https://localhost:8080/"
        },
        "outputId": "4215e1b6-cfa7-4619-eed9-d271e8827769",
        "id": "RnMC772j1yfy"
      },
      "execution_count": null,
      "outputs": [
        {
          "output_type": "stream",
          "name": "stdout",
          "text": [
            "<class 'pandas.core.frame.DataFrame'>\n",
            "Index: 1245 entries, 15305 to 63347\n",
            "Data columns (total 21 columns):\n",
            " #   Column             Non-Null Count  Dtype  \n",
            "---  ------             --------------  -----  \n",
            " 0   bet_id             1245 non-null   object \n",
            " 1   player_id          1245 non-null   object \n",
            " 2   accept_time        1245 non-null   object \n",
            " 3   create_time        1245 non-null   object \n",
            " 4   settlement_time    1245 non-null   object \n",
            " 5   result             1245 non-null   object \n",
            " 6   amount             1245 non-null   float64\n",
            " 7   payout             1245 non-null   float64\n",
            " 8   profit             1245 non-null   float64\n",
            " 9   bet_type           1245 non-null   object \n",
            " 10  bet_size           1245 non-null   int64  \n",
            " 11  accepted_bet_odd   1245 non-null   float64\n",
            " 12  item_result        1245 non-null   object \n",
            " 13  event_stage        1245 non-null   object \n",
            " 14  accepted_odd       1245 non-null   float64\n",
            " 15  item_amount        1245 non-null   float64\n",
            " 16  item_payout        1245 non-null   float64\n",
            " 17  item_profit        1245 non-null   float64\n",
            " 18  event_id           1245 non-null   object \n",
            " 19  is_free_bet        1245 non-null   bool   \n",
            " 20  settlement_status  1245 non-null   object \n",
            "dtypes: bool(1), float64(8), int64(1), object(11)\n",
            "memory usage: 205.5+ KB\n"
          ]
        }
      ]
    },
    {
      "cell_type": "markdown",
      "source": [
        "#### Events dataframe"
      ],
      "metadata": {
        "id": "5SMlhuD91yfy"
      }
    },
    {
      "cell_type": "code",
      "source": [
        "# загрузка данных о событиях\n",
        "events_p = pd.read_csv('events.csv')\n",
        "\n",
        "# вывод структуры данных\n",
        "events_p.info()"
      ],
      "metadata": {
        "colab": {
          "base_uri": "https://localhost:8080/"
        },
        "outputId": "2ec3fec5-00e9-46c4-8d52-791ceff416e3",
        "id": "CHi5u3eS1yfy"
      },
      "execution_count": null,
      "outputs": [
        {
          "output_type": "stream",
          "name": "stdout",
          "text": [
            "<class 'pandas.core.frame.DataFrame'>\n",
            "RangeIndex: 3680 entries, 0 to 3679\n",
            "Data columns (total 4 columns):\n",
            " #   Column    Non-Null Count  Dtype \n",
            "---  ------    --------------  ----- \n",
            " 0   event_id  3680 non-null   object\n",
            " 1   sport     3680 non-null   object\n",
            " 2   category  3680 non-null   object\n",
            " 3   event     3680 non-null   object\n",
            "dtypes: object(4)\n",
            "memory usage: 115.1+ KB\n"
          ]
        }
      ]
    },
    {
      "cell_type": "code",
      "source": [
        "# вывод данных\n",
        "events_p.head()"
      ],
      "metadata": {
        "colab": {
          "base_uri": "https://localhost:8080/",
          "height": 206
        },
        "outputId": "5947667d-c8b3-4c48-89ec-fb2dc4ccf4f8",
        "id": "RPz20u4y1yfy"
      },
      "execution_count": null,
      "outputs": [
        {
          "output_type": "execute_result",
          "data": {
            "text/plain": [
              "                               event_id       sport       category  \\\n",
              "0  101dd0bf-449d-4c8c-b088-db1ef7f3f708    Football        Belgium   \n",
              "1  ef534a8d-76f2-482f-bc09-b06a76921dc6    Football        Belgium   \n",
              "2  9443dc96-f46a-447f-895b-1aa970299377    Handball         Russia   \n",
              "3  984ddbe0-e9dc-4cb6-b121-2118c859723e  Ice Hockey        Germany   \n",
              "4  bbe2dd93-e16e-4834-b5bc-691ed318ddde    Football  South America   \n",
              "\n",
              "                                         event  \n",
              "0         Anderlecht U-21 - Royal Antwerp U-21  \n",
              "1                KMSK Deinze U-21 - Eupen U-21  \n",
              "2  Zvezda Zvenihorod (w) - Kuban Krasnodar (w)  \n",
              "3      Straubing Tigers - EHC Red Bull Munchen  \n",
              "4       General Caballero JLM - Sol de America  "
            ],
            "text/html": [
              "\n",
              "  <div id=\"df-ea612787-0738-4a71-8815-8de7fe14201c\" class=\"colab-df-container\">\n",
              "    <div>\n",
              "<style scoped>\n",
              "    .dataframe tbody tr th:only-of-type {\n",
              "        vertical-align: middle;\n",
              "    }\n",
              "\n",
              "    .dataframe tbody tr th {\n",
              "        vertical-align: top;\n",
              "    }\n",
              "\n",
              "    .dataframe thead th {\n",
              "        text-align: right;\n",
              "    }\n",
              "</style>\n",
              "<table border=\"1\" class=\"dataframe\">\n",
              "  <thead>\n",
              "    <tr style=\"text-align: right;\">\n",
              "      <th></th>\n",
              "      <th>event_id</th>\n",
              "      <th>sport</th>\n",
              "      <th>category</th>\n",
              "      <th>event</th>\n",
              "    </tr>\n",
              "  </thead>\n",
              "  <tbody>\n",
              "    <tr>\n",
              "      <th>0</th>\n",
              "      <td>101dd0bf-449d-4c8c-b088-db1ef7f3f708</td>\n",
              "      <td>Football</td>\n",
              "      <td>Belgium</td>\n",
              "      <td>Anderlecht U-21 - Royal Antwerp U-21</td>\n",
              "    </tr>\n",
              "    <tr>\n",
              "      <th>1</th>\n",
              "      <td>ef534a8d-76f2-482f-bc09-b06a76921dc6</td>\n",
              "      <td>Football</td>\n",
              "      <td>Belgium</td>\n",
              "      <td>KMSK Deinze U-21 - Eupen U-21</td>\n",
              "    </tr>\n",
              "    <tr>\n",
              "      <th>2</th>\n",
              "      <td>9443dc96-f46a-447f-895b-1aa970299377</td>\n",
              "      <td>Handball</td>\n",
              "      <td>Russia</td>\n",
              "      <td>Zvezda Zvenihorod (w) - Kuban Krasnodar (w)</td>\n",
              "    </tr>\n",
              "    <tr>\n",
              "      <th>3</th>\n",
              "      <td>984ddbe0-e9dc-4cb6-b121-2118c859723e</td>\n",
              "      <td>Ice Hockey</td>\n",
              "      <td>Germany</td>\n",
              "      <td>Straubing Tigers - EHC Red Bull Munchen</td>\n",
              "    </tr>\n",
              "    <tr>\n",
              "      <th>4</th>\n",
              "      <td>bbe2dd93-e16e-4834-b5bc-691ed318ddde</td>\n",
              "      <td>Football</td>\n",
              "      <td>South America</td>\n",
              "      <td>General Caballero JLM - Sol de America</td>\n",
              "    </tr>\n",
              "  </tbody>\n",
              "</table>\n",
              "</div>\n",
              "    <div class=\"colab-df-buttons\">\n",
              "\n",
              "  <div class=\"colab-df-container\">\n",
              "    <button class=\"colab-df-convert\" onclick=\"convertToInteractive('df-ea612787-0738-4a71-8815-8de7fe14201c')\"\n",
              "            title=\"Convert this dataframe to an interactive table.\"\n",
              "            style=\"display:none;\">\n",
              "\n",
              "  <svg xmlns=\"http://www.w3.org/2000/svg\" height=\"24px\" viewBox=\"0 -960 960 960\">\n",
              "    <path d=\"M120-120v-720h720v720H120Zm60-500h600v-160H180v160Zm220 220h160v-160H400v160Zm0 220h160v-160H400v160ZM180-400h160v-160H180v160Zm440 0h160v-160H620v160ZM180-180h160v-160H180v160Zm440 0h160v-160H620v160Z\"/>\n",
              "  </svg>\n",
              "    </button>\n",
              "\n",
              "  <style>\n",
              "    .colab-df-container {\n",
              "      display:flex;\n",
              "      gap: 12px;\n",
              "    }\n",
              "\n",
              "    .colab-df-convert {\n",
              "      background-color: #E8F0FE;\n",
              "      border: none;\n",
              "      border-radius: 50%;\n",
              "      cursor: pointer;\n",
              "      display: none;\n",
              "      fill: #1967D2;\n",
              "      height: 32px;\n",
              "      padding: 0 0 0 0;\n",
              "      width: 32px;\n",
              "    }\n",
              "\n",
              "    .colab-df-convert:hover {\n",
              "      background-color: #E2EBFA;\n",
              "      box-shadow: 0px 1px 2px rgba(60, 64, 67, 0.3), 0px 1px 3px 1px rgba(60, 64, 67, 0.15);\n",
              "      fill: #174EA6;\n",
              "    }\n",
              "\n",
              "    .colab-df-buttons div {\n",
              "      margin-bottom: 4px;\n",
              "    }\n",
              "\n",
              "    [theme=dark] .colab-df-convert {\n",
              "      background-color: #3B4455;\n",
              "      fill: #D2E3FC;\n",
              "    }\n",
              "\n",
              "    [theme=dark] .colab-df-convert:hover {\n",
              "      background-color: #434B5C;\n",
              "      box-shadow: 0px 1px 3px 1px rgba(0, 0, 0, 0.15);\n",
              "      filter: drop-shadow(0px 1px 2px rgba(0, 0, 0, 0.3));\n",
              "      fill: #FFFFFF;\n",
              "    }\n",
              "  </style>\n",
              "\n",
              "    <script>\n",
              "      const buttonEl =\n",
              "        document.querySelector('#df-ea612787-0738-4a71-8815-8de7fe14201c button.colab-df-convert');\n",
              "      buttonEl.style.display =\n",
              "        google.colab.kernel.accessAllowed ? 'block' : 'none';\n",
              "\n",
              "      async function convertToInteractive(key) {\n",
              "        const element = document.querySelector('#df-ea612787-0738-4a71-8815-8de7fe14201c');\n",
              "        const dataTable =\n",
              "          await google.colab.kernel.invokeFunction('convertToInteractive',\n",
              "                                                    [key], {});\n",
              "        if (!dataTable) return;\n",
              "\n",
              "        const docLinkHtml = 'Like what you see? Visit the ' +\n",
              "          '<a target=\"_blank\" href=https://colab.research.google.com/notebooks/data_table.ipynb>data table notebook</a>'\n",
              "          + ' to learn more about interactive tables.';\n",
              "        element.innerHTML = '';\n",
              "        dataTable['output_type'] = 'display_data';\n",
              "        await google.colab.output.renderOutput(dataTable, element);\n",
              "        const docLink = document.createElement('div');\n",
              "        docLink.innerHTML = docLinkHtml;\n",
              "        element.appendChild(docLink);\n",
              "      }\n",
              "    </script>\n",
              "  </div>\n",
              "\n",
              "\n",
              "<div id=\"df-8173abb1-6bab-4b57-8ecf-15f89012bdf1\">\n",
              "  <button class=\"colab-df-quickchart\" onclick=\"quickchart('df-8173abb1-6bab-4b57-8ecf-15f89012bdf1')\"\n",
              "            title=\"Suggest charts\"\n",
              "            style=\"display:none;\">\n",
              "\n",
              "<svg xmlns=\"http://www.w3.org/2000/svg\" height=\"24px\"viewBox=\"0 0 24 24\"\n",
              "     width=\"24px\">\n",
              "    <g>\n",
              "        <path d=\"M19 3H5c-1.1 0-2 .9-2 2v14c0 1.1.9 2 2 2h14c1.1 0 2-.9 2-2V5c0-1.1-.9-2-2-2zM9 17H7v-7h2v7zm4 0h-2V7h2v10zm4 0h-2v-4h2v4z\"/>\n",
              "    </g>\n",
              "</svg>\n",
              "  </button>\n",
              "\n",
              "<style>\n",
              "  .colab-df-quickchart {\n",
              "      --bg-color: #E8F0FE;\n",
              "      --fill-color: #1967D2;\n",
              "      --hover-bg-color: #E2EBFA;\n",
              "      --hover-fill-color: #174EA6;\n",
              "      --disabled-fill-color: #AAA;\n",
              "      --disabled-bg-color: #DDD;\n",
              "  }\n",
              "\n",
              "  [theme=dark] .colab-df-quickchart {\n",
              "      --bg-color: #3B4455;\n",
              "      --fill-color: #D2E3FC;\n",
              "      --hover-bg-color: #434B5C;\n",
              "      --hover-fill-color: #FFFFFF;\n",
              "      --disabled-bg-color: #3B4455;\n",
              "      --disabled-fill-color: #666;\n",
              "  }\n",
              "\n",
              "  .colab-df-quickchart {\n",
              "    background-color: var(--bg-color);\n",
              "    border: none;\n",
              "    border-radius: 50%;\n",
              "    cursor: pointer;\n",
              "    display: none;\n",
              "    fill: var(--fill-color);\n",
              "    height: 32px;\n",
              "    padding: 0;\n",
              "    width: 32px;\n",
              "  }\n",
              "\n",
              "  .colab-df-quickchart:hover {\n",
              "    background-color: var(--hover-bg-color);\n",
              "    box-shadow: 0 1px 2px rgba(60, 64, 67, 0.3), 0 1px 3px 1px rgba(60, 64, 67, 0.15);\n",
              "    fill: var(--button-hover-fill-color);\n",
              "  }\n",
              "\n",
              "  .colab-df-quickchart-complete:disabled,\n",
              "  .colab-df-quickchart-complete:disabled:hover {\n",
              "    background-color: var(--disabled-bg-color);\n",
              "    fill: var(--disabled-fill-color);\n",
              "    box-shadow: none;\n",
              "  }\n",
              "\n",
              "  .colab-df-spinner {\n",
              "    border: 2px solid var(--fill-color);\n",
              "    border-color: transparent;\n",
              "    border-bottom-color: var(--fill-color);\n",
              "    animation:\n",
              "      spin 1s steps(1) infinite;\n",
              "  }\n",
              "\n",
              "  @keyframes spin {\n",
              "    0% {\n",
              "      border-color: transparent;\n",
              "      border-bottom-color: var(--fill-color);\n",
              "      border-left-color: var(--fill-color);\n",
              "    }\n",
              "    20% {\n",
              "      border-color: transparent;\n",
              "      border-left-color: var(--fill-color);\n",
              "      border-top-color: var(--fill-color);\n",
              "    }\n",
              "    30% {\n",
              "      border-color: transparent;\n",
              "      border-left-color: var(--fill-color);\n",
              "      border-top-color: var(--fill-color);\n",
              "      border-right-color: var(--fill-color);\n",
              "    }\n",
              "    40% {\n",
              "      border-color: transparent;\n",
              "      border-right-color: var(--fill-color);\n",
              "      border-top-color: var(--fill-color);\n",
              "    }\n",
              "    60% {\n",
              "      border-color: transparent;\n",
              "      border-right-color: var(--fill-color);\n",
              "    }\n",
              "    80% {\n",
              "      border-color: transparent;\n",
              "      border-right-color: var(--fill-color);\n",
              "      border-bottom-color: var(--fill-color);\n",
              "    }\n",
              "    90% {\n",
              "      border-color: transparent;\n",
              "      border-bottom-color: var(--fill-color);\n",
              "    }\n",
              "  }\n",
              "</style>\n",
              "\n",
              "  <script>\n",
              "    async function quickchart(key) {\n",
              "      const quickchartButtonEl =\n",
              "        document.querySelector('#' + key + ' button');\n",
              "      quickchartButtonEl.disabled = true;  // To prevent multiple clicks.\n",
              "      quickchartButtonEl.classList.add('colab-df-spinner');\n",
              "      try {\n",
              "        const charts = await google.colab.kernel.invokeFunction(\n",
              "            'suggestCharts', [key], {});\n",
              "      } catch (error) {\n",
              "        console.error('Error during call to suggestCharts:', error);\n",
              "      }\n",
              "      quickchartButtonEl.classList.remove('colab-df-spinner');\n",
              "      quickchartButtonEl.classList.add('colab-df-quickchart-complete');\n",
              "    }\n",
              "    (() => {\n",
              "      let quickchartButtonEl =\n",
              "        document.querySelector('#df-8173abb1-6bab-4b57-8ecf-15f89012bdf1 button');\n",
              "      quickchartButtonEl.style.display =\n",
              "        google.colab.kernel.accessAllowed ? 'block' : 'none';\n",
              "    })();\n",
              "  </script>\n",
              "</div>\n",
              "    </div>\n",
              "  </div>\n"
            ],
            "application/vnd.google.colaboratory.intrinsic+json": {
              "type": "dataframe",
              "variable_name": "events_p",
              "summary": "{\n  \"name\": \"events_p\",\n  \"rows\": 3680,\n  \"fields\": [\n    {\n      \"column\": \"event_id\",\n      \"properties\": {\n        \"dtype\": \"string\",\n        \"num_unique_values\": 3680,\n        \"samples\": [\n          \"1e788ac7-3ec1-467c-8544-d17f13375b0a\",\n          \"f280c3bf-7d29-424a-a4d3-e9e64dcf0e4b\",\n          \"09436236-fbe9-4927-83e9-f7c8e2db252d\"\n        ],\n        \"semantic_type\": \"\",\n        \"description\": \"\"\n      }\n    },\n    {\n      \"column\": \"sport\",\n      \"properties\": {\n        \"dtype\": \"category\",\n        \"num_unique_values\": 14,\n        \"samples\": [\n          \"Tennis\",\n          \"Bandy\",\n          \"Football\"\n        ],\n        \"semantic_type\": \"\",\n        \"description\": \"\"\n      }\n    },\n    {\n      \"column\": \"category\",\n      \"properties\": {\n        \"dtype\": \"category\",\n        \"num_unique_values\": 136,\n        \"samples\": [\n          \"Saudi Arabia\",\n          \"Croatia\",\n          \"Dota 2\"\n        ],\n        \"semantic_type\": \"\",\n        \"description\": \"\"\n      }\n    },\n    {\n      \"column\": \"event\",\n      \"properties\": {\n        \"dtype\": \"string\",\n        \"num_unique_values\": 3555,\n        \"samples\": [\n          \"Oklahoma City Thunder - Charlotte Hornets\",\n          \"Grela Pawel - Biatek Artur\",\n          \"Bobrov Bogdan - Chirita Ioan Alexandru\"\n        ],\n        \"semantic_type\": \"\",\n        \"description\": \"\"\n      }\n    }\n  ]\n}"
            }
          },
          "metadata": {},
          "execution_count": 10
        }
      ]
    },
    {
      "cell_type": "code",
      "source": [
        "# вывод уникальных значений 'sport', чтобы определить наименование для киберспорта\n",
        "events_p['sport'].unique()"
      ],
      "metadata": {
        "colab": {
          "base_uri": "https://localhost:8080/"
        },
        "outputId": "32d8b592-60c3-4355-e000-44098f09d471",
        "id": "n7O4DfYh1yfz"
      },
      "execution_count": null,
      "outputs": [
        {
          "output_type": "execute_result",
          "data": {
            "text/plain": [
              "array(['Football', 'Handball', 'Ice Hockey', 'UFC', 'Volleyball',\n",
              "       'Basketball', 'E-Sports', 'Cricket', 'Waterpolo', 'Tennis',\n",
              "       'Table Tennis', 'Bandy', 'Futsal', 'Baseball'], dtype=object)"
            ]
          },
          "metadata": {},
          "execution_count": 11
        }
      ]
    },
    {
      "cell_type": "code",
      "source": [
        "# фильтрация данных с событиями\n",
        "events_p = events_p.loc[events_p['sport'] == 'E-Sports'] # все события в ставке из раздела «Киберспорт»"
      ],
      "metadata": {
        "id": "VRa-sbI21yfz"
      },
      "execution_count": null,
      "outputs": []
    },
    {
      "cell_type": "markdown",
      "source": [
        "#### Join events & bets dataframes"
      ],
      "metadata": {
        "id": "9sMK9kF31yfz"
      }
    },
    {
      "cell_type": "code",
      "source": [
        "# определяем ставки только для киберспортивных событий через inner join\n",
        "df_p = events_p.merge(bets_p, on='event_id', how='inner')"
      ],
      "metadata": {
        "id": "O-h6jtW41yfz"
      },
      "execution_count": null,
      "outputs": []
    },
    {
      "cell_type": "code",
      "source": [
        "# сохранение уникальных player_id\n",
        "players_p = df_p['player_id'].drop_duplicates()"
      ],
      "metadata": {
        "id": "gp_gKZxo1yfz"
      },
      "execution_count": null,
      "outputs": []
    },
    {
      "cell_type": "code",
      "source": [
        "# вывод уникальных player_id\n",
        "players_p"
      ],
      "metadata": {
        "colab": {
          "base_uri": "https://localhost:8080/",
          "height": 366
        },
        "outputId": "43e0e574-19db-4e4b-da4b-33958442765f",
        "id": "mwfm_5Cn1yfz"
      },
      "execution_count": null,
      "outputs": [
        {
          "output_type": "execute_result",
          "data": {
            "text/plain": [
              "0     091b1ffd-0e79-4f8f-b5fd-62e5e5f8f90a\n",
              "1     e4898b8d-5240-474d-9ee6-a36b6d9a1eb9\n",
              "5     e5d708d5-a7a1-43f2-a388-c0e9fb86595f\n",
              "7     e16c4236-27f0-4300-9347-c74a1c7fca9e\n",
              "8     d70c6ac8-b60f-4a5e-b297-231a49fe974b\n",
              "10    19beb9ec-9a6a-40b5-b342-f3502e857096\n",
              "12    58c5782f-3a99-4e60-a1d1-00e85c983abc\n",
              "20    a2061870-2f00-40e4-bd05-df90d25a2fe1\n",
              "28    4a8b72de-b3d2-4786-9a92-9dbddaa70137\n",
              "Name: player_id, dtype: object"
            ],
            "text/html": [
              "<div>\n",
              "<style scoped>\n",
              "    .dataframe tbody tr th:only-of-type {\n",
              "        vertical-align: middle;\n",
              "    }\n",
              "\n",
              "    .dataframe tbody tr th {\n",
              "        vertical-align: top;\n",
              "    }\n",
              "\n",
              "    .dataframe thead th {\n",
              "        text-align: right;\n",
              "    }\n",
              "</style>\n",
              "<table border=\"1\" class=\"dataframe\">\n",
              "  <thead>\n",
              "    <tr style=\"text-align: right;\">\n",
              "      <th></th>\n",
              "      <th>player_id</th>\n",
              "    </tr>\n",
              "  </thead>\n",
              "  <tbody>\n",
              "    <tr>\n",
              "      <th>0</th>\n",
              "      <td>091b1ffd-0e79-4f8f-b5fd-62e5e5f8f90a</td>\n",
              "    </tr>\n",
              "    <tr>\n",
              "      <th>1</th>\n",
              "      <td>e4898b8d-5240-474d-9ee6-a36b6d9a1eb9</td>\n",
              "    </tr>\n",
              "    <tr>\n",
              "      <th>5</th>\n",
              "      <td>e5d708d5-a7a1-43f2-a388-c0e9fb86595f</td>\n",
              "    </tr>\n",
              "    <tr>\n",
              "      <th>7</th>\n",
              "      <td>e16c4236-27f0-4300-9347-c74a1c7fca9e</td>\n",
              "    </tr>\n",
              "    <tr>\n",
              "      <th>8</th>\n",
              "      <td>d70c6ac8-b60f-4a5e-b297-231a49fe974b</td>\n",
              "    </tr>\n",
              "    <tr>\n",
              "      <th>10</th>\n",
              "      <td>19beb9ec-9a6a-40b5-b342-f3502e857096</td>\n",
              "    </tr>\n",
              "    <tr>\n",
              "      <th>12</th>\n",
              "      <td>58c5782f-3a99-4e60-a1d1-00e85c983abc</td>\n",
              "    </tr>\n",
              "    <tr>\n",
              "      <th>20</th>\n",
              "      <td>a2061870-2f00-40e4-bd05-df90d25a2fe1</td>\n",
              "    </tr>\n",
              "    <tr>\n",
              "      <th>28</th>\n",
              "      <td>4a8b72de-b3d2-4786-9a92-9dbddaa70137</td>\n",
              "    </tr>\n",
              "  </tbody>\n",
              "</table>\n",
              "</div><br><label><b>dtype:</b> object</label>"
            ]
          },
          "metadata": {},
          "execution_count": 15
        }
      ]
    },
    {
      "cell_type": "code",
      "source": [
        "# сохранение уникальных player_id\n",
        "players_p.to_csv('players_p.csv')"
      ],
      "metadata": {
        "id": "cD2XzP5l1yfz"
      },
      "execution_count": null,
      "outputs": []
    },
    {
      "cell_type": "markdown",
      "source": [
        "### PySpark realisation\n",
        "<a class='anchor' id='sp'></a>"
      ],
      "metadata": {
        "id": "3y0wLMkejH3D"
      }
    },
    {
      "cell_type": "code",
      "source": [
        "! pip install pyspark"
      ],
      "metadata": {
        "colab": {
          "base_uri": "https://localhost:8080/"
        },
        "id": "Opx-eFieipIv",
        "outputId": "7d8d3685-cef2-4244-99b2-28168968b1a8"
      },
      "execution_count": null,
      "outputs": [
        {
          "output_type": "stream",
          "name": "stdout",
          "text": [
            "Collecting pyspark\n",
            "  Downloading pyspark-3.5.2.tar.gz (317.3 MB)\n",
            "\u001b[2K     \u001b[90m━━━━━━━━━━━━━━━━━━━━━━━━━━━━━━━━━━━━━━━━\u001b[0m \u001b[32m317.3/317.3 MB\u001b[0m \u001b[31m4.2 MB/s\u001b[0m eta \u001b[36m0:00:00\u001b[0m\n",
            "\u001b[?25h  Preparing metadata (setup.py) ... \u001b[?25l\u001b[?25hdone\n",
            "Requirement already satisfied: py4j==0.10.9.7 in /usr/local/lib/python3.10/dist-packages (from pyspark) (0.10.9.7)\n",
            "Building wheels for collected packages: pyspark\n",
            "  Building wheel for pyspark (setup.py) ... \u001b[?25l\u001b[?25hdone\n",
            "  Created wheel for pyspark: filename=pyspark-3.5.2-py2.py3-none-any.whl size=317812365 sha256=d9494c896b1df38815d383216a71dd20571e753c53cca54cc714b7dfba64c903\n",
            "  Stored in directory: /root/.cache/pip/wheels/34/34/bd/03944534c44b677cd5859f248090daa9fb27b3c8f8e5f49574\n",
            "Successfully built pyspark\n",
            "Installing collected packages: pyspark\n",
            "Successfully installed pyspark-3.5.2\n"
          ]
        }
      ]
    },
    {
      "cell_type": "code",
      "source": [
        "# импорт библиотек\n",
        "from pyspark.sql import SparkSession\n",
        "from pyspark.sql.functions import *"
      ],
      "metadata": {
        "id": "Pzq5u9oXV8ZL"
      },
      "execution_count": null,
      "outputs": []
    },
    {
      "cell_type": "code",
      "execution_count": null,
      "metadata": {
        "id": "AB7x0WFrMLra"
      },
      "outputs": [],
      "source": [
        "# создание сессии\n",
        "spark = SparkSession.builder\\\n",
        "        .master(\"local[*]\")\\\n",
        "        .appName('PySpark_Tutorial')\\\n",
        "        .getOrCreate()"
      ]
    },
    {
      "cell_type": "markdown",
      "source": [
        "#### Bets dataframe"
      ],
      "metadata": {
        "id": "50EaEKYjynTl"
      }
    },
    {
      "cell_type": "code",
      "source": [
        "# загрузка данных о ставках\n",
        "bets_s = spark.read.csv(\n",
        "    'bets.csv',\n",
        "    header=True,\n",
        "    inferSchema=True\n",
        "    )\n",
        "\n",
        "# вывод структуры данных\n",
        "bets_s.printSchema()"
      ],
      "metadata": {
        "colab": {
          "base_uri": "https://localhost:8080/"
        },
        "id": "JcrdUciQMc3k",
        "outputId": "b35009d5-574f-48db-d42e-255b8d0e9258"
      },
      "execution_count": null,
      "outputs": [
        {
          "output_type": "stream",
          "name": "stdout",
          "text": [
            "root\n",
            " |-- bet_id: string (nullable = true)\n",
            " |-- player_id: string (nullable = true)\n",
            " |-- accept_time: timestamp (nullable = true)\n",
            " |-- create_time: timestamp (nullable = true)\n",
            " |-- settlement_time: timestamp (nullable = true)\n",
            " |-- result: string (nullable = true)\n",
            " |-- amount: double (nullable = true)\n",
            " |-- payout: double (nullable = true)\n",
            " |-- profit: double (nullable = true)\n",
            " |-- bet_type: string (nullable = true)\n",
            " |-- bet_size: integer (nullable = true)\n",
            " |-- accepted_bet_odd: double (nullable = true)\n",
            " |-- item_result: string (nullable = true)\n",
            " |-- event_stage: string (nullable = true)\n",
            " |-- accepted_odd: double (nullable = true)\n",
            " |-- item_amount: double (nullable = true)\n",
            " |-- item_payout: double (nullable = true)\n",
            " |-- item_profit: double (nullable = true)\n",
            " |-- event_id: string (nullable = true)\n",
            " |-- is_free_bet: boolean (nullable = true)\n",
            " |-- settlement_status: string (nullable = true)\n",
            "\n"
          ]
        }
      ]
    },
    {
      "cell_type": "code",
      "source": [
        "# вывод данных\n",
        "bets_s.show()"
      ],
      "metadata": {
        "colab": {
          "base_uri": "https://localhost:8080/"
        },
        "id": "ZBWY9PGTSXBM",
        "outputId": "32710692-2125-4a87-fe7a-5c3dcee099d3"
      },
      "execution_count": null,
      "outputs": [
        {
          "output_type": "stream",
          "name": "stdout",
          "text": [
            "+--------------------+--------------------+--------------------+--------------------+--------------------+-------+------+------+------+--------+--------+----------------+-----------+-----------+------------+-----------+-----------+-----------+--------------------+-----------+-----------------+\n",
            "|              bet_id|           player_id|         accept_time|         create_time|     settlement_time| result|amount|payout|profit|bet_type|bet_size|accepted_bet_odd|item_result|event_stage|accepted_odd|item_amount|item_payout|item_profit|            event_id|is_free_bet|settlement_status|\n",
            "+--------------------+--------------------+--------------------+--------------------+--------------------+-------+------+------+------+--------+--------+----------------+-----------+-----------+------------+-----------+-----------+-----------+--------------------+-----------+-----------------+\n",
            "|4580f660-d16a-4ad...|cf928a91-a17d-42c...|2022-03-14 00:00:...|2022-03-13 23:59:...|2022-03-14 00:21:...| Return|   1.0|   1.0|   0.0| Ordinar|       1|             7.5|     Return|       Live|         7.5|        1.0|        1.0|        0.0|c3929913-1eef-470...|      false|          Settled|\n",
            "|7435c382-e448-4c0...|cf928a91-a17d-42c...|2022-03-14 00:00:...|2022-03-14 00:00:...|2022-03-14 00:10:...|    Win|  0.95|  2.48| -1.53| Ordinar|       1|            2.62|        Win|       Live|        2.62|       0.95|       2.48|      -1.53|c3929913-1eef-470...|      false|          Settled|\n",
            "|ae36ffa2-0bb5-4bd...|f1866879-4b0f-4a5...|2022-03-14 00:01:...|2022-03-14 00:01:...|2022-03-14 04:37:...|    Win|  3.51|  7.51|  -4.0| Ordinar|       1|            2.14|        Win|   Prematch|        2.14|       3.51|       7.51|       -4.0|7b6aaa15-3b2e-497...|      false|          Settled|\n",
            "|57009dc1-60c5-46f...|e5efcd9c-aa46-48a...|2022-03-14 00:01:...|2022-03-14 00:01:...|                NULL|   NULL|   1.0|  NULL|  NULL| Express|       4|             0.0|       NULL|       NULL|         0.0|        0.0|       NULL|       NULL|0b912707-3b87-4ec...|      false|         Rejected|\n",
            "|57009dc1-60c5-46f...|e5efcd9c-aa46-48a...|2022-03-14 00:01:...|2022-03-14 00:01:...|                NULL|   NULL|   1.0|  NULL|  NULL| Express|       4|             0.0|       NULL|       NULL|         0.0|        0.0|       NULL|       NULL|c3929913-1eef-470...|      false|         Rejected|\n",
            "|57009dc1-60c5-46f...|e5efcd9c-aa46-48a...|2022-03-14 00:01:...|2022-03-14 00:01:...|                NULL|   NULL|   1.0|  NULL|  NULL| Express|       4|             0.0|       NULL|       NULL|         0.0|        0.0|       NULL|       NULL|5f687e2d-9e96-40f...|      false|         Rejected|\n",
            "|57009dc1-60c5-46f...|e5efcd9c-aa46-48a...|2022-03-14 00:01:...|2022-03-14 00:01:...|                NULL|   NULL|   1.0|  NULL|  NULL| Express|       4|             0.0|       NULL|       NULL|         0.0|        0.0|       NULL|       NULL|9ba4048a-f661-4dd...|      false|         Rejected|\n",
            "|bb7ab65b-e84a-4e3...|b396d79a-d4ae-4cd...|2022-03-14 00:01:...|2022-03-14 00:01:...|2022-03-14 02:14:...|   Lose|   0.9|   0.0|   0.9| Ordinar|       1|             4.0|       Lose|       Live|         4.0|        0.9|        0.0|        0.9|56346782-190d-415...|      false|          Settled|\n",
            "|969e090e-ee5a-415...|e5efcd9c-aa46-48a...|2022-03-14 00:01:...|2022-03-14 00:01:...|2022-03-14 00:55:...|   Lose|   1.0|   0.0|   1.0| Express|       4|         12.3664|        Win|       Live|        1.42|       0.11|        0.0|        0.0|9ba4048a-f661-4dd...|      false|          Settled|\n",
            "|969e090e-ee5a-415...|e5efcd9c-aa46-48a...|2022-03-14 00:01:...|2022-03-14 00:01:...|2022-03-14 00:55:...|   Lose|   1.0|   0.0|   1.0| Express|       4|         12.3664|       Lose|       Live|         2.9|        0.5|        0.0|       0.34|5f687e2d-9e96-40f...|      false|          Settled|\n",
            "|969e090e-ee5a-415...|e5efcd9c-aa46-48a...|2022-03-14 00:01:...|2022-03-14 00:01:...|2022-03-14 00:55:...|   Lose|   1.0|   0.0|   1.0| Express|       4|         12.3664|       Lose|       Live|        1.65|       0.17|        0.0|       0.33|c3929913-1eef-470...|      false|          Settled|\n",
            "|969e090e-ee5a-415...|e5efcd9c-aa46-48a...|2022-03-14 00:01:...|2022-03-14 00:01:...|2022-03-14 00:55:...|   Lose|   1.0|   0.0|   1.0| Express|       4|         12.3664|       Lose|       Live|        1.82|       0.22|        0.0|       0.33|0b912707-3b87-4ec...|      false|          Settled|\n",
            "|91f38dfb-dcdd-494...|c4de3258-3363-443...|2022-03-14 00:02:...|2022-03-14 00:02:...|2022-03-14 00:36:...|   Lose|   3.0|   0.0|   3.0| Ordinar|       1|             5.0|       Lose|       Live|         5.0|        3.0|        0.0|        3.0|75819f64-1d51-417...|      false|          Settled|\n",
            "|88b7dba4-34fc-488...|e5efcd9c-aa46-48a...|2022-03-14 00:02:...|2022-03-14 00:02:...|2022-03-14 00:59:...|   Lose|  10.0|   0.0|  10.0| Ordinar|       1|             9.2|       Lose|       Live|         9.2|       10.0|        0.0|       10.0|9ba4048a-f661-4dd...|      false|          Settled|\n",
            "|c103e0a7-4525-46c...|d9d0af43-d383-405...|2022-03-14 00:04:...|2022-03-14 00:03:...|2022-03-14 03:12:...|    Win|   1.0|  1.89| -0.89| Ordinar|       1|            1.89|        Win|   Prematch|        1.89|        1.0|       1.89|      -0.89|8987167e-e604-45e...|      false|          Settled|\n",
            "|db5994d5-13a5-4e0...|0e31f596-df38-4b9...|2022-03-14 00:04:...|2022-03-14 00:04:...|2022-03-14 03:12:...|    Win|   1.0|  1.89| -0.89| Ordinar|       1|            1.89|        Win|   Prematch|        1.89|        1.0|       1.89|      -0.89|8987167e-e604-45e...|      false|          Settled|\n",
            "|9c3343dc-802a-4a9...|d9d0af43-d383-405...|2022-03-14 00:04:...|2022-03-14 00:04:...|2022-03-14 03:12:...|    Win|   1.0|  1.89| -0.89| Ordinar|       1|            1.89|        Win|   Prematch|        1.89|        1.0|       1.89|      -0.89|8987167e-e604-45e...|      false|          Settled|\n",
            "|eb32cc33-7cae-46f...|0e31f596-df38-4b9...|2022-03-14 00:04:...|2022-03-14 00:04:...|2022-03-14 03:12:...|    Win|   1.0|  1.89| -0.89| Ordinar|       1|            1.89|        Win|   Prematch|        1.89|        1.0|       1.89|      -0.89|8987167e-e604-45e...|      false|          Settled|\n",
            "|7fb683ab-e6f2-4ef...|6edbe569-82b9-48d...|2022-03-14 00:05:...|2022-03-14 00:05:...|2022-03-14 00:38:...|Cashout|   7.5|  1.45|  6.05| Ordinar|       1|            1.97|    Cashout|       Live|        1.97|        7.5|       1.45|       6.05|c3ea52a7-0c4b-40c...|      false|          Settled|\n",
            "|01e226e0-bdda-48d...|cf928a91-a17d-42c...|2022-03-14 00:05:...|2022-03-14 00:05:...|                NULL|   NULL|   1.0|  NULL|  NULL| Ordinar|       1|            10.0|       NULL|       Live|        10.0|        1.0|       NULL|       NULL|0c9fc9a4-8207-4aa...|      false|         Rejected|\n",
            "+--------------------+--------------------+--------------------+--------------------+--------------------+-------+------+------+------+--------+--------+----------------+-----------+-----------+------------+-----------+-----------+-----------+--------------------+-----------+-----------------+\n",
            "only showing top 20 rows\n",
            "\n"
          ]
        }
      ]
    },
    {
      "cell_type": "code",
      "source": [
        "# количество строк\n",
        "bets_s.count()"
      ],
      "metadata": {
        "colab": {
          "base_uri": "https://localhost:8080/"
        },
        "id": "Ty_vFk6UVljb",
        "outputId": "fbdc78c3-af28-457c-b16c-aa0ad4991ee5"
      },
      "execution_count": null,
      "outputs": [
        {
          "output_type": "execute_result",
          "data": {
            "text/plain": [
              "102860"
            ]
          },
          "metadata": {},
          "execution_count": 22
        }
      ]
    },
    {
      "cell_type": "code",
      "source": [
        "# вывод уникальных значений 'bet_type', чтобы определить наименование для системных ставок\n",
        "bets_s.dropDuplicates(['bet_type']).select('bet_type').show(truncate=False)"
      ],
      "metadata": {
        "colab": {
          "base_uri": "https://localhost:8080/"
        },
        "id": "cpDYHm8emBOl",
        "outputId": "a8a59398-419c-4432-c4ac-d722c5c96fc1"
      },
      "execution_count": null,
      "outputs": [
        {
          "output_type": "stream",
          "name": "stdout",
          "text": [
            "+--------+\n",
            "|bet_type|\n",
            "+--------+\n",
            "|Express |\n",
            "|Ordinar |\n",
            "|System  |\n",
            "+--------+\n",
            "\n"
          ]
        }
      ]
    },
    {
      "cell_type": "code",
      "source": [
        "# вывод уникальных значений 'result', чтобы определить наименования для искомых типов ставок\n",
        "bets_s.dropDuplicates(['result']).select('result').show(truncate=False)"
      ],
      "metadata": {
        "colab": {
          "base_uri": "https://localhost:8080/"
        },
        "id": "tWfnbcJhnfwC",
        "outputId": "8c68924a-e3bc-4762-b85c-30b85a01d312"
      },
      "execution_count": null,
      "outputs": [
        {
          "output_type": "stream",
          "name": "stdout",
          "text": [
            "+---------------+\n",
            "|result         |\n",
            "+---------------+\n",
            "|Win            |\n",
            "|Cashout        |\n",
            "|TechnicalReturn|\n",
            "|Return         |\n",
            "|Lose           |\n",
            "|NULL           |\n",
            "+---------------+\n",
            "\n"
          ]
        }
      ]
    },
    {
      "cell_type": "code",
      "source": [
        "# фильтрация данных со ставками\n",
        "bets_s = bets_s.filter(\n",
        "    (col('create_time') >= lit('2022-03-14 12:00:00')) # ставка сделана с 12:00 14.03.2022\n",
        "    & (col('event_stage') == lit('Prematch')) # ставка сделана в пре-матч\n",
        "    & (col('amount') >= lit(10)) # минимальная сумма ставки 10 BYN\n",
        "    & (col('accepted_bet_odd') >= lit(1.5)) # коэффициент каждого события ставки не менее 1,5\n",
        "    & (col('settlement_time') <= lit('2022-03-15 12:00:00')) # ставка должна быть рассчитана не позднее 12:00 15.03.2022\n",
        "    & (col('bet_type') != lit('System')) # ставки вида «система» не учитываются\n",
        "    & ~bets_s.result.isin(['Cashout', 'TechnicalReturn', 'Return']) # ставки CashOut, возвраты и FreeBet не учитываются\n",
        "    )"
      ],
      "metadata": {
        "id": "J06qzajpks0C"
      },
      "execution_count": null,
      "outputs": []
    },
    {
      "cell_type": "code",
      "source": [
        "# проверка на пустые значения в колонках\n",
        "{col:bets_s.filter(bets_s[col].isNull()).count() for col in bets_s.columns}"
      ],
      "metadata": {
        "colab": {
          "base_uri": "https://localhost:8080/"
        },
        "id": "jYBJ4B5Pxwx9",
        "outputId": "d5245499-2636-4302-f939-a5054d2ca540"
      },
      "execution_count": null,
      "outputs": [
        {
          "output_type": "execute_result",
          "data": {
            "text/plain": [
              "{'bet_id': 0,\n",
              " 'player_id': 0,\n",
              " 'accept_time': 0,\n",
              " 'create_time': 0,\n",
              " 'settlement_time': 0,\n",
              " 'result': 0,\n",
              " 'amount': 0,\n",
              " 'payout': 0,\n",
              " 'profit': 0,\n",
              " 'bet_type': 0,\n",
              " 'bet_size': 0,\n",
              " 'accepted_bet_odd': 0,\n",
              " 'item_result': 0,\n",
              " 'event_stage': 0,\n",
              " 'accepted_odd': 0,\n",
              " 'item_amount': 0,\n",
              " 'item_payout': 0,\n",
              " 'item_profit': 0,\n",
              " 'event_id': 0,\n",
              " 'is_free_bet': 0,\n",
              " 'settlement_status': 0}"
            ]
          },
          "metadata": {},
          "execution_count": 26
        }
      ]
    },
    {
      "cell_type": "markdown",
      "source": [
        "#### Events dataframe"
      ],
      "metadata": {
        "id": "BxQfKZeqyvBQ"
      }
    },
    {
      "cell_type": "code",
      "source": [
        "# загрузка данных о событиях\n",
        "events_s = spark.read.csv(\n",
        "    'events.csv',\n",
        "    header=True,\n",
        "    inferSchema=True\n",
        "    )\n",
        "\n",
        "# вывод структуры данных\n",
        "events_s.printSchema()"
      ],
      "metadata": {
        "colab": {
          "base_uri": "https://localhost:8080/"
        },
        "id": "8qBxcOB2NgNZ",
        "outputId": "56df1b71-3c58-4b50-ad8f-f91b88f1fd7c"
      },
      "execution_count": null,
      "outputs": [
        {
          "output_type": "stream",
          "name": "stdout",
          "text": [
            "root\n",
            " |-- event_id: string (nullable = true)\n",
            " |-- sport: string (nullable = true)\n",
            " |-- category: string (nullable = true)\n",
            " |-- event: string (nullable = true)\n",
            "\n"
          ]
        }
      ]
    },
    {
      "cell_type": "code",
      "source": [
        "# вывод данных\n",
        "events_s.show()"
      ],
      "metadata": {
        "colab": {
          "base_uri": "https://localhost:8080/"
        },
        "id": "A0Gc6CV0Uzig",
        "outputId": "58f9764c-df22-4467-e9e5-93e53f7c56af"
      },
      "execution_count": null,
      "outputs": [
        {
          "output_type": "stream",
          "name": "stdout",
          "text": [
            "+--------------------+----------+--------------+--------------------+\n",
            "|            event_id|     sport|      category|               event|\n",
            "+--------------------+----------+--------------+--------------------+\n",
            "|101dd0bf-449d-4c8...|  Football|       Belgium|Anderlecht U-21 -...|\n",
            "|ef534a8d-76f2-482...|  Football|       Belgium|KMSK Deinze U-21 ...|\n",
            "|9443dc96-f46a-447...|  Handball|        Russia|Zvezda Zvenihorod...|\n",
            "|984ddbe0-e9dc-4cb...|Ice Hockey|       Germany|Straubing Tigers ...|\n",
            "|bbe2dd93-e16e-483...|  Football| South America|General Caballero...|\n",
            "|f6347734-1910-4d5...|Ice Hockey|       Finland|Kajaanin Hokki - ...|\n",
            "|127b33a4-0877-417...|Ice Hockey|       Finland|TUTO Hockey Oy - ...|\n",
            "|52c4eb41-8923-4ac...|       UFC|         Event|Askar Askarov - K...|\n",
            "|171a4eec-7e80-4ae...|  Football|     Argentina|Arsenal Sarandi -...|\n",
            "|15adbba2-c0fc-478...|Volleyball|        Russia|   Dynamo LR - Fakel|\n",
            "|5226cb22-e527-40a...|Basketball|        Europe|BK Ventspils - Li...|\n",
            "|331f01d5-cb53-442...|Ice Hockey|        Sweden| Oskarshamn - Orebro|\n",
            "|da7b5d80-5d5c-4d9...|Basketball|Czech Republic|BK Pardubice II -...|\n",
            "|042db10a-29fa-4cb...|Ice Hockey|       Finland|SaiPa - Vaasan Sport|\n",
            "|f367b92e-789e-48a...|  Football|        Sweden|IFK Norrkoping U-...|\n",
            "|04ed256a-c793-435...|       UFC|         Event|Paddy Pimblett - ...|\n",
            "|0024cdb9-25c8-43b...|       UFC|         Event|Curtis Blaydes - ...|\n",
            "|4a8fbd57-6532-43f...|  Football|         Italy|Juventus - Fioren...|\n",
            "|bbbb5e3a-30be-43d...|  Football|      Portugal|Moreirense - Spor...|\n",
            "|aa3a465f-a1da-407...|  Football|         Italy|     Lazio - Venezia|\n",
            "+--------------------+----------+--------------+--------------------+\n",
            "only showing top 20 rows\n",
            "\n"
          ]
        }
      ]
    },
    {
      "cell_type": "code",
      "source": [
        "# количество строк\n",
        "events_s.count()"
      ],
      "metadata": {
        "colab": {
          "base_uri": "https://localhost:8080/"
        },
        "id": "bl0Z6MtxU2R0",
        "outputId": "f2a1d87b-1272-4501-dd60-e4bd1c8d9b6a"
      },
      "execution_count": null,
      "outputs": [
        {
          "output_type": "execute_result",
          "data": {
            "text/plain": [
              "3680"
            ]
          },
          "metadata": {},
          "execution_count": 29
        }
      ]
    },
    {
      "cell_type": "code",
      "source": [
        "# вывод уникальных значений 'sport', чтобы определить наименование для киберспорта\n",
        "events_s.dropDuplicates(['sport']).select('sport').show(truncate=False)"
      ],
      "metadata": {
        "colab": {
          "base_uri": "https://localhost:8080/"
        },
        "id": "I_l5oOdoWXeb",
        "outputId": "5b6d1f3e-c1c5-489d-d535-8da3da63dfff"
      },
      "execution_count": null,
      "outputs": [
        {
          "output_type": "stream",
          "name": "stdout",
          "text": [
            "+------------+\n",
            "|sport       |\n",
            "+------------+\n",
            "|Tennis      |\n",
            "|Ice Hockey  |\n",
            "|Basketball  |\n",
            "|Handball    |\n",
            "|UFC         |\n",
            "|Futsal      |\n",
            "|Bandy       |\n",
            "|E-Sports    |\n",
            "|Table Tennis|\n",
            "|Waterpolo   |\n",
            "|Baseball    |\n",
            "|Cricket     |\n",
            "|Volleyball  |\n",
            "|Football    |\n",
            "+------------+\n",
            "\n"
          ]
        }
      ]
    },
    {
      "cell_type": "code",
      "source": [
        "# фильтрация данных с событиями\n",
        "events_s = events_s.filter(col('sport') == lit('E-Sports')) # все события в ставке из раздела «Киберспорт»"
      ],
      "metadata": {
        "id": "pYjLErG1VpeT"
      },
      "execution_count": null,
      "outputs": []
    },
    {
      "cell_type": "markdown",
      "source": [
        "#### Join events & bets dataframes"
      ],
      "metadata": {
        "id": "pw2LQSWKzORA"
      }
    },
    {
      "cell_type": "code",
      "source": [
        "# определяем ставки только для киберспортивных событий через inner join\n",
        "df_s = events_s.join(bets_s, on='event_id', how='inner').select('*')"
      ],
      "metadata": {
        "id": "GwEomC10XD3g"
      },
      "execution_count": null,
      "outputs": []
    },
    {
      "cell_type": "code",
      "source": [
        "# сохранение уникальных player_id\n",
        "players_s = df_s.dropDuplicates(['player_id']).select('player_id')"
      ],
      "metadata": {
        "id": "J1ncd5D20PKa"
      },
      "execution_count": null,
      "outputs": []
    },
    {
      "cell_type": "code",
      "source": [
        "# вывод уникальных player_id\n",
        "players_s.show(truncate=False)"
      ],
      "metadata": {
        "colab": {
          "base_uri": "https://localhost:8080/"
        },
        "id": "RimhRNMH0S07",
        "outputId": "ba6ba944-d783-4aff-d7fe-aabdd56c35be"
      },
      "execution_count": null,
      "outputs": [
        {
          "output_type": "stream",
          "name": "stdout",
          "text": [
            "+------------------------------------+\n",
            "|player_id                           |\n",
            "+------------------------------------+\n",
            "|a2061870-2f00-40e4-bd05-df90d25a2fe1|\n",
            "|19beb9ec-9a6a-40b5-b342-f3502e857096|\n",
            "|e16c4236-27f0-4300-9347-c74a1c7fca9e|\n",
            "|58c5782f-3a99-4e60-a1d1-00e85c983abc|\n",
            "|091b1ffd-0e79-4f8f-b5fd-62e5e5f8f90a|\n",
            "|e4898b8d-5240-474d-9ee6-a36b6d9a1eb9|\n",
            "|d70c6ac8-b60f-4a5e-b297-231a49fe974b|\n",
            "|e5d708d5-a7a1-43f2-a388-c0e9fb86595f|\n",
            "|4a8b72de-b3d2-4786-9a92-9dbddaa70137|\n",
            "+------------------------------------+\n",
            "\n"
          ]
        }
      ]
    },
    {
      "cell_type": "code",
      "source": [
        "# сохранение уникальных player_id\n",
        "players_s.write.csv('players_spark.csv')"
      ],
      "metadata": {
        "id": "6lsHIhDb0tE7"
      },
      "execution_count": null,
      "outputs": []
    },
    {
      "cell_type": "markdown",
      "source": [
        "### SQL realisation\n",
        "<a class='anchor' id='sql'></a>"
      ],
      "metadata": {
        "id": "1b0vQtsM_gdP"
      }
    },
    {
      "cell_type": "markdown",
      "source": [
        "```\n",
        "SELECT DISTINCT b.player_id\n",
        "\n",
        "FROM base.bets AS b\n",
        "\n",
        "-- все события в ставке из раздела «Киберспорт»\n",
        "INNER JOIN base.events AS e\n",
        "ON b.event_id = e.event_id\n",
        "AND e.sport = 'E-Sports'\n",
        "\n",
        "WHERE b.create_time >= '2022-03-14 12:00:00' -- ставка сделана с 12:00 14.03.2022\n",
        "AND b.event_stage = 'Prematch' -- ставка сделана в пре-матч\n",
        "AND b.amount >= 10 -- минимальная сумма ставки 10 BYN\n",
        "AND b.accepted_bet_odd >= 1.5 -- коэффициент каждого события ставки не менее 1,5\n",
        "AND b.settlement_time <= '2022-03-15 12:00:00' -- ставка должна быть рассчитана не позднее 12:00 15.03.2022\n",
        "AND b.bet_type <> 'System' -- ставки вида «система» не учитываются\n",
        "AND b.result NOT IN ('Cashout', 'TechnicalReturn', 'Return') -- ставки CashOut, возвраты и FreeBet не учитываются\n",
        "\n",
        "```\n",
        "\n"
      ],
      "metadata": {
        "id": "WWK55zdT-Z6I"
      }
    },
    {
      "cell_type": "markdown",
      "source": [
        "## 1.3.2 Task\n",
        "<a class='anchor' id='task2'></a>"
      ],
      "metadata": {
        "id": "VZT3hw0NMgKA"
      }
    },
    {
      "cell_type": "markdown",
      "source": [
        "![image.png](data:image/png;base64,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)"
      ],
      "metadata": {
        "id": "KYFgLVOWMZtz"
      }
    },
    {
      "cell_type": "markdown",
      "source": [
        "\n",
        "```\n",
        "-- в SQL отсутствует функция для перемножения значений внутри одного поля.\n",
        "-- для этой задачи можно использовать свойство логарифмов: логарифм произведения равен сумме логарифмов.\n",
        "-- !! код написан для среды Teradata.\n",
        "-- функция LOG() в этой среде не имеет возможности изменить основание логарифма, оно равно 10\n",
        "\n",
        "WITH raw AS (-- сбор сырых данных\n",
        "\t\t\tSELECT  bet_id,\n",
        "                    event_id,\n",
        "\n",
        "\t\t\t\t\t-- замена пропусков на нули для дальнейшей фильтрации\n",
        "          -- (особенность совместимости фильтрации пустых значений и LOG() в Teradata)\n",
        "                    CASE\n",
        "                        WHEN odd IS NULL THEN 0\n",
        "                        ELSE odd\n",
        "                    END AS odd,\n",
        "\n",
        "                    SUM(CASE WHEN odd < 0 THEN 1 ELSE 0 END) OVER(PARTITION BY bet_id) AS neg, -- количество отрицательных значений\n",
        "                    SUM(CASE WHEN odd > 0 THEN 1 ELSE 0 END) OVER(PARTITION BY bet_id) AS pos, -- количество положительных значений\n",
        "                    SUM(CASE WHEN odd <> 0 THEN 1 ELSE 0 END) OVER(PARTITION BY bet_id) AS total -- общее количество значений без нулей\n",
        "\n",
        "            FROM base.bets AS b\n",
        "            ),\n",
        "\n",
        "res AS (-- сбор общего коэффициента для всех событий каждой ставки\n",
        "\t\tSELECT  bet_id,\n",
        "\t\t\t\t-- возведение коэффициента в модуль\n",
        "\t\t\t\t-- логарифм модуля числа делится на логарифм экспоненты единицы, чтобы рассчитать натуральный логарифм каждого коэффицента\n",
        "\t\t\t\t-- сложение всех натуральных логарифмов\n",
        "\t\t\t\t-- получение экспоненты из суммы\n",
        "\t\t\t\t-- умножение полученного результата на 1 или -1, чтобы получить общий коэффициент с нужным знаком\n",
        "\t\t\t\t-- поскольку в других средах функция LOG() - это натуральный логарифм, либо в этой функции можно настроить основание логарифма,\n",
        "\t\t\t\t-- то это могло бы выглядеть примерно так: EXP(SUM(LOG(ABS(odd)))) * MAX(even_odd)\n",
        "\t\t\t\tEXP(SUM(LOG(ABS(odd)) / LOG(EXP(1)))) * MAX(even_odd) AS bet_odd\n",
        "\n",
        "\t\tFROM (-- определение знака общего коэффициента для всех событий каждой ставки\n",
        "\t\t\t\tSELECT  bet_id,\n",
        "\t\t\t\t        odd,\n",
        "\t\t\t\t        \n",
        "\t\t\t\t        CASE\n",
        "\t\t\t\t            WHEN neg MOD 2 = 0 THEN 1 -- если количество отрицательных чисел чётное, то выведи 1\n",
        "                                                      --(в иной среде можно использовать % вместо MOD или функцию MOD())\n",
        "\t\t\t\t            ELSE -1 -- если количество отрицательных чисел нечётное, то выведи -1\n",
        "\t\t\t\t        END AS even_odd\n",
        "\t\t\t\t                \n",
        "\t\t\t\tFROM raw\n",
        "\n",
        "\t\t\t\t-- нулевые коэффициенты не учитываются\n",
        "\t\t\t\tWHERE odd <> 0) AS a\n",
        "\n",
        "\t\t-- группировка на уровне ставки\n",
        "\t\tGROUP BY bet_id)\n",
        "\n",
        "-- вывод набора данных\n",
        "SELECT  raw.bet_id,\n",
        "        raw.event_id,\n",
        "        raw.odd,\n",
        "\n",
        "\t\t-- если для bet_odd значение не определено, то все коэффициенты ставки равны нулю или не были указаны\n",
        "        CASE\n",
        "\t\t\tWHEN res.bet_odd IS NULL THEN 0\n",
        "\t\t\tELSE res.bet_odd\n",
        "\t\tEND AS bet_odd\n",
        "        \n",
        "FROM raw\n",
        "\n",
        "-- добавление общего коэффициента для всех событий каждой ставки к сырым данным\n",
        "LEFT JOIN res\n",
        "ON raw.bet_id = res.bet_id\n",
        "```"
      ],
      "metadata": {
        "id": "DlD0O-iqMlmE"
      }
    }
  ]
}